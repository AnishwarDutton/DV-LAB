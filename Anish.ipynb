{
 "cells": [
  {
   "cell_type": "code",
   "execution_count": 5,
   "id": "4c9b4c65-41f1-4746-81f9-2ec6b2fc32b8",
   "metadata": {},
   "outputs": [
    {
     "name": "stdout",
     "output_type": "stream",
     "text": [
      "3\n",
      "6\n",
      "9\n",
      "12\n",
      "15\n",
      "18\n"
     ]
    }
   ],
   "source": [
    " for x in range(3,19,3):\n",
    "     print (x)\n",
    "     "
   ]
  },
  {
   "cell_type": "code",
   "execution_count": 11,
   "id": "24102c76-9814-4ae1-bd6b-702983668cb6",
   "metadata": {},
   "outputs": [
    {
     "name": "stdout",
     "output_type": "stream",
     "text": [
      "cherry\n",
      "['apple', 'banana', 'cherry', 'strawberry', 'mango']\n",
      "['apple', 'banana', 'cherry', 'mango', 'strawberry']\n"
     ]
    }
   ],
   "source": [
    "thislist=['apple','banana','cherry','strawberry']\n",
    "print(thislist[2])\n",
    "thislist.append('mango')\n",
    "print(thislist)\n",
    "temp=thislist[3]\n",
    "thislist[3]=thislist[4]\n",
    "thislist[4]=temp\n",
    "print(thislist)"
   ]
  },
  {
   "cell_type": "code",
   "execution_count": 1,
   "id": "fd3d705b-5d3c-4196-9255-2d182d14d018",
   "metadata": {},
   "outputs": [
    {
     "name": "stdin",
     "output_type": "stream",
     "text": [
      "Enters the number seperated by spaces:  5\n"
     ]
    },
    {
     "name": "stdout",
     "output_type": "stream",
     "text": [
      "[5.0]\n",
      "5.0\n",
      "5.0\n",
      "5.0\n"
     ]
    },
    {
     "name": "stdin",
     "output_type": "stream",
     "text": [
      "Enter a number to count its occurences 5\n"
     ]
    },
    {
     "name": "stdout",
     "output_type": "stream",
     "text": [
      "The number 5.0 has occured 1 times\n"
     ]
    }
   ],
   "source": [
    "\n",
    "list1=list(map(float,input(\"Enters the number seperated by spaces: \").split()))\n",
    "\n",
    "\n",
    "print(list1)\n",
    "print(max(list1))\n",
    "print(min(list1))\n",
    "avg=sum(list1)/len(list1)\n",
    "print(avg)\n",
    "spec=float(input(\"Enter a number to count its occurences\"))\n",
    "count=list1.count(spec)\n",
    "print(f\"The number {spec} has occured {count} times\")"
   ]
  },
  {
   "cell_type": "code",
   "execution_count": 2,
   "id": "865d81fa-e127-4af1-8de7-cf6248fd250a",
   "metadata": {},
   "outputs": [
    {
     "name": "stdout",
     "output_type": "stream",
     "text": [
      "{67, 10, 11, 5}\n"
     ]
    }
   ],
   "source": [
    "import numpy as np\n",
    "a=np.array({5,67,5,10,11})\n",
    "print(a)\n"
   ]
  },
  {
   "cell_type": "code",
   "execution_count": 4,
   "id": "cbdc293d-bf3b-4504-9c48-16c6427d7949",
   "metadata": {},
   "outputs": [
    {
     "name": "stdout",
     "output_type": "stream",
     "text": [
      "[[1 2 3 4]\n",
      " [5 6 7 8]]\n",
      "2\n",
      "(2, 4)\n"
     ]
    }
   ],
   "source": [
    "import numpy as np\n",
    "data2=[[1,2,3,4],[5,6,7,8]]\n",
    "arr2=np.array(data2)\n",
    "print(arr2)\n",
    "print(arr2.ndim)\n",
    "print(arr2.shape)\n"
   ]
  },
  {
   "cell_type": "code",
   "execution_count": 7,
   "id": "1605cbbc-93f9-4202-990a-3b6a480fcd87",
   "metadata": {},
   "outputs": [
    {
     "data": {
      "text/plain": [
       "array([[0., 0., 0., 0., 0., 0.],\n",
       "       [0., 0., 0., 0., 0., 0.],\n",
       "       [0., 0., 0., 0., 0., 0.]])"
      ]
     },
     "execution_count": 7,
     "metadata": {},
     "output_type": "execute_result"
    }
   ],
   "source": [
    "import numpy as np\n",
    "np.zeros(10)\n",
    "np.zeros((3,6))"
   ]
  },
  {
   "cell_type": "code",
   "execution_count": 9,
   "id": "10e975c0-8e31-4d48-b816-3bd08325ca1d",
   "metadata": {},
   "outputs": [
    {
     "name": "stdout",
     "output_type": "stream",
     "text": [
      "[[1 2 3 4]\n",
      " [5 6 7 8]]\n",
      "2\n",
      "(2, 4)\n"
     ]
    }
   ],
   "source": [
    "arr=np.array([[1,2,3,4],[6,7,8,9],[10,11,12,13]])\n",
    "arr=np.array(data2)\n",
    "print(arr)\n",
    "print(arr.ndim)\n",
    "print(arr.shape)\n"
   ]
  },
  {
   "cell_type": "code",
   "execution_count": null,
   "id": "8cece43c-83ca-400b-890c-9067c04c176b",
   "metadata": {},
   "outputs": [],
   "source": [
    "matrix1=np.random.randint(1,51,size=(3,3))\n",
    "matrix2=np.random.randint(1,51,size=(3,3))\n",
    "\n",
    "matrix_addition=matrix1+matrix2\n",
    "matrix_subtraction=matrix1-matrix2\n",
    "matrix_multiplication=matrix1*matrix2\n",
    "matrix_dot_product=np.dot(matrix1,matrix2)\n"
   ]
  },
  {
   "cell_type": "code",
   "execution_count": 10,
   "id": "56b92d39-0f1e-48ae-9297-7c9b0b5fef83",
   "metadata": {},
   "outputs": [
    {
     "data": {
      "text/plain": [
       "array([0., 0., 0., 0., 0., 0., 0., 0., 0., 0.])"
      ]
     },
     "execution_count": 10,
     "metadata": {},
     "output_type": "execute_result"
    }
   ],
   "source": [
    "import numpy as np\n",
    "np.zeros(10)\n"
   ]
  },
  {
   "cell_type": "code",
   "execution_count": 13,
   "id": "b0e55118-ade9-4a41-a4e6-33fa74ae3367",
   "metadata": {},
   "outputs": [
    {
     "name": "stdout",
     "output_type": "stream",
     "text": [
      "[0. 0. 0. 0. 1. 0. 0. 0. 0. 0.]\n"
     ]
    }
   ],
   "source": [
    "x=np.zeros(10)\n",
    "x[4]=1\n",
    "print(x)"
   ]
  },
  {
   "cell_type": "code",
   "execution_count": 16,
   "id": "de65cde8-d30e-495a-8fcc-2be52d979602",
   "metadata": {},
   "outputs": [
    {
     "name": "stdout",
     "output_type": "stream",
     "text": [
      "[264 145 367 342 322 380 318 396 237 397 178 130 185 393 231 324 392 247\n",
      " 292 390]\n"
     ]
    }
   ],
   "source": [
    "vector=np.random.randint(100,490,size=(20))\n",
    "print(matrix1)"
   ]
  },
  {
   "cell_type": "code",
   "execution_count": 29,
   "id": "002e039a-5726-479c-a59a-25a448e256ce",
   "metadata": {},
   "outputs": [
    {
     "name": "stdout",
     "output_type": "stream",
     "text": [
      "[259 191 361 135 239 271 200 123 214 125]\n",
      "[125 214 123 200 271 239 135 361 191 259]\n"
     ]
    }
   ],
   "source": [
    "vector=np.random.randint(100,400,size=(10))\n",
    "print(vector)\n",
    "rev=np.flip(vector)\n",
    "print(rev)"
   ]
  },
  {
   "cell_type": "code",
   "execution_count": 31,
   "id": "a8f2212f-83a3-4ac8-a277-5397b16d3db4",
   "metadata": {},
   "outputs": [
    {
     "name": "stdout",
     "output_type": "stream",
     "text": [
      "[[7 2 3]\n",
      " [6 5 1]\n",
      " [6 4 2]]\n"
     ]
    }
   ],
   "source": [
    "matrix1=np.random.randint(0,8,size=(3,3))\n",
    "print(matrix1)"
   ]
  },
  {
   "cell_type": "code",
   "execution_count": 33,
   "id": "8217139d-46b7-49c8-abd3-eb0fc6b7dd24",
   "metadata": {},
   "outputs": [
    {
     "name": "stdout",
     "output_type": "stream",
     "text": [
      "[[1 1 1]\n",
      " [1 1 1]\n",
      " [1 1 1]]\n"
     ]
    }
   ],
   "source": [
    "matrix=np.random.randint(1,2,size=(3,3))\n",
    "print(matrix)"
   ]
  },
  {
   "cell_type": "code",
   "execution_count": 35,
   "id": "5daee131-0554-4c73-acc6-e5d6064b9ffd",
   "metadata": {},
   "outputs": [
    {
     "name": "stdout",
     "output_type": "stream",
     "text": [
      "[[[-0.04540009 -0.84962968  0.16881954]\n",
      "  [-0.85553732  0.93528008  1.41635031]\n",
      "  [-2.5615929   0.87597829  2.45532948]]\n",
      "\n",
      " [[ 0.62018746  0.75555959 -0.45465277]\n",
      "  [ 1.49107487 -0.01439052 -1.42233459]\n",
      "  [ 0.00323196 -1.3706229   1.01430095]]\n",
      "\n",
      " [[ 0.42242043 -0.69549943  1.22555102]\n",
      "  [-0.98503059 -0.53387361  0.19152154]\n",
      "  [-0.47433535  1.09980851  1.53510361]]]\n"
     ]
    }
   ],
   "source": [
    "matrix1=np.random.randn(3,3,3)\n",
    "print(matrix1)"
   ]
  },
  {
   "cell_type": "code",
   "execution_count": 15,
   "id": "3b7cd926-f343-4f2b-a193-25de21a3a9c1",
   "metadata": {},
   "outputs": [
    {
     "name": "stdout",
     "output_type": "stream",
     "text": [
      "Average temp for the week:  22.00*C\n",
      "Max temp: 25 on Friday\n",
      "Min temp: 19 on Sunday\n"
     ]
    },
    {
     "name": "stdin",
     "output_type": "stream",
     "text": [
      "Enter Temperature:  30\n"
     ]
    },
    {
     "name": "stdout",
     "output_type": "stream",
     "text": [
      "Temp greater than 30*C\n",
      "Series([], dtype: int64)\n",
      "Temp in Fahrenheit:  Monday       71.6\n",
      "Tuesday      75.2\n",
      "Wednesday    69.8\n",
      "Thursday     73.4\n",
      "Friday       77.0\n",
      "Saturday     68.0\n",
      "Sunday       66.2\n",
      "dtype: float64\n",
      "Days with temp above avg:\n",
      " Tuesday     24\n",
      "Thursday    23\n",
      "Friday      25\n",
      "dtype: int64\n"
     ]
    }
   ],
   "source": [
    "import pandas as pd\n",
    "\n",
    "temp = [22, 24, 21, 23, 25, 20, 19]\n",
    "days = ['Monday', 'Tuesday', 'Wednesday', 'Thursday', 'Friday', 'Saturday', 'Sunday']\n",
    "t_s = pd.Series(temp, index = days)\n",
    "a_t = t_s.mean()\n",
    "print(f\"Average temp for the week: {a_t: .2f}*C\")\n",
    "\n",
    "max_t = t_s.max()\n",
    "min_t = t_s.min()\n",
    "max_d = t_s.idxmax()\n",
    "min_d = t_s.idxmin()\n",
    "\n",
    "print(f\"Max temp: {max_t} on {max_d}\")\n",
    "print(f\"Min temp: {min_t} on {min_d}\")\n",
    "\n",
    "t = int(input(\"Enter Temperature: \"))\n",
    "av = t_s[t_s > t]\n",
    "print(f\"Temp greater than {t}*C\\n{av}\")\n",
    "\n",
    "f = (t_s * 9/5 + 32)\n",
    "print(\"Temp in Fahrenheit: \", f)\n",
    "\n",
    "a = t_s[t_s > a_t]\n",
    "print(\"Days with temp above avg:\\n\", a)"
   ]
  },
  {
   "cell_type": "code",
   "execution_count": 19,
   "id": "b9aa5b83-8c5d-41b4-a776-c6c526738645",
   "metadata": {},
   "outputs": [
    {
     "name": "stdout",
     "output_type": "stream",
     "text": [
      "   Roll Number Name Gender  Marks1  Marks2  Marks3\n",
      "0            1    A      M      85      45      90\n",
      "1            2    B      F      78      38      85\n",
      "2            3    C      M      92      50      88\n",
      "3            4    D      F      88      42      92\n",
      "4            5    E      M      76      35      87\n",
      "5            6    F      F      95      48      91\n",
      "6            7    G      M      89      47      89\n",
      "7            8    H      F      74      40      84\n",
      "8            9    I      M      81      39      86\n",
      "9           10    J      F      90      49      93\n",
      "Lowest marks in Marks 1:  74\n",
      "Highest marks in Marks 2:  50\n",
      "Average Marks: 88.50\n",
      "Student with higest average:  F\n",
      "Number of failed students:  3\n"
     ]
    }
   ],
   "source": [
    "import pandas as pd\n",
    "\n",
    "data = {\n",
    "    'Roll Number': [1, 2, 3, 4, 5, 6, 7, 8, 9, 10],\n",
    "    'Name': ['A', 'B', 'C', 'D', 'E', 'F', 'G', 'H', 'I', 'J'],\n",
    "    'Gender': ['M', 'F', 'M', 'F', 'M', 'F', 'M', 'F', 'M', 'F'],\n",
    "    'Marks1': [85, 78, 92, 88, 76, 95, 89, 74, 81, 90],\n",
    "    'Marks2': [45, 38, 50, 42, 35, 48, 47, 40, 39, 49],\n",
    "    'Marks3': [90, 85, 88, 92, 87, 91, 89, 84, 86, 93]\n",
    "}\n",
    "df = pd.DataFrame(data)\n",
    "print(df)\n",
    "df['Total Marks'] = df['Marks1'] + df['Marks2'] + df['Marks3']\n",
    "\n",
    "lm1 = df['Marks1'].min()\n",
    "print(\"Lowest marks in Marks 1: \", lm1)\n",
    "\n",
    "hm2 = df['Marks2'].max()\n",
    "print(\"Highest marks in Marks 2: \", hm2)\n",
    "\n",
    "am3 = df['Marks3'].mean()\n",
    "print(\"Average Marks: %.2f\" % am3)\n",
    "\n",
    "df['Average'] = df['Total Marks'] / 3\n",
    "\n",
    "ha = df.loc[df['Average'].idxmax(), 'Name']\n",
    "print(\"Student with higest average: \", ha)\n",
    "\n",
    "fs = df[df['Marks2'] < 40]\n",
    "print(\"Number of failed students: \", len(fs))\n",
    "    \n",
    "    "
   ]
  },
  {
   "cell_type": "code",
   "execution_count": 2,
   "id": "f3c6960b-4d1a-4069-b7e2-d76a010d9348",
   "metadata": {},
   "outputs": [
    {
     "name": "stdout",
     "output_type": "stream",
     "text": [
      "[  0   1   2   3   4   5   6   7   8   9  10  11  12  13  14  15  16  17\n",
      "  18  19  20  21  22  23  24  25  26  27  28  29  30  31  32  33  34  35\n",
      "  36  37  38  39  40  41  42  43  44  45  46  47  48  49  50  51  52  53\n",
      "  54  55  56  57  58  59  60  61  62  63  64  65  66  67  68  69  70  71\n",
      "  72  73  74  75  76  77  78  79  80  81  82  83  84  85  86  87  88  89\n",
      "  90  91  92  93  94  95  96  97  98  99 100]\n"
     ]
    }
   ],
   "source": [
    "import  numpy as np\n",
    "int_0_to_100=np.arange(101)\n",
    "print(int_0_to_100)"
   ]
  },
  {
   "cell_type": "code",
   "execution_count": 6,
   "id": "b54e404b-40dd-40b9-8449-edf315ca9155",
   "metadata": {},
   "outputs": [
    {
     "name": "stdout",
     "output_type": "stream",
     "text": [
      "1 \n",
      "1 2 \n",
      "1 2 3 \n",
      "1 2 3 4 \n",
      "1 2 3 4 5 \n"
     ]
    }
   ],
   "source": [
    "n=5\n",
    "for i in range(1,n+1):\n",
    "    for j in range(1,i+1):\n",
    "      print(j,end=\" \")\n",
    "    print()"
   ]
  },
  {
   "cell_type": "code",
   "execution_count": 8,
   "id": "52f73591-b417-4bc2-96ab-d1e7a42355da",
   "metadata": {},
   "outputs": [
    {
     "name": "stdout",
     "output_type": "stream",
     "text": [
      "[[1. 1. 1. 1. 1.]\n",
      " [1. 1. 1. 1. 1.]\n",
      " [1. 1. 1. 1. 1.]\n",
      " [1. 1. 1. 1. 1.]\n",
      " [1. 1. 1. 1. 1.]\n",
      " [1. 1. 1. 1. 1.]\n",
      " [1. 1. 1. 1. 1.]]\n"
     ]
    }
   ],
   "source": [
    "import numpy as np\n",
    "x=np.ones((7,5))\n",
    "print(x)"
   ]
  },
  {
   "cell_type": "code",
   "execution_count": 10,
   "id": "d0787ec0-ea6e-4aff-a30a-726d84a1bff6",
   "metadata": {},
   "outputs": [
    {
     "name": "stdin",
     "output_type": "stream",
     "text": [
      "Enter a number:  8\n"
     ]
    },
    {
     "name": "stdout",
     "output_type": "stream",
     "text": [
      "The sum of all numbers from 1 to 8 is 36.\n"
     ]
    }
   ],
   "source": [
    "number=int(input(\"Enter a number: \"))\n",
    "total_sum=sum(range(1,number+1))\n",
    "print(f\"The sum of all numbers from 1 to {number} is {total_sum}.\")"
   ]
  },
  {
   "cell_type": "code",
   "execution_count": 12,
   "id": "840fd01d-bb8d-45a9-ae5d-2a749a86906d",
   "metadata": {},
   "outputs": [
    {
     "name": "stdout",
     "output_type": "stream",
     "text": [
      "[[100 110]\n",
      " [120 130]\n",
      " [140 150]\n",
      " [160 170]\n",
      " [180 190]]\n"
     ]
    }
   ],
   "source": [
    "import numpy as np\n",
    "array=np.arange(100,200,10).reshape(5,2)\n",
    "print(array)"
   ]
  },
  {
   "cell_type": "code",
   "execution_count": null,
   "id": "178a8b3d-11be-4a66-95cc-35cb25fc1879",
   "metadata": {},
   "outputs": [],
   "source": []
  }
 ],
 "metadata": {
  "kernelspec": {
   "display_name": "Python 3 (ipykernel)",
   "language": "python",
   "name": "python3"
  },
  "language_info": {
   "codemirror_mode": {
    "name": "ipython",
    "version": 3
   },
   "file_extension": ".py",
   "mimetype": "text/x-python",
   "name": "python",
   "nbconvert_exporter": "python",
   "pygments_lexer": "ipython3",
   "version": "3.12.7"
  }
 },
 "nbformat": 4,
 "nbformat_minor": 5
}
